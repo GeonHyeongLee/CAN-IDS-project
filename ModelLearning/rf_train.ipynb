{
 "cells": [
  {
   "cell_type": "code",
   "execution_count": 1,
   "id": "066b91bd",
   "metadata": {},
   "outputs": [
    {
     "name": "stdout",
     "output_type": "stream",
     "text": [
      "Time                 float64\n",
      "Source                 int64\n",
      "Destination            int64\n",
      "Protocol              object\n",
      "Length                 int64\n",
      "ID                    object\n",
      "Data                  object\n",
      "Same Data              int64\n",
      "Strange Data           int64\n",
      "Entropy              float64\n",
      "Dos Attack            object\n",
      "Fuzzing Attack        object\n",
      "Replaying Attack      object\n",
      "label                  int64\n",
      "IAT                  float64\n",
      "IAT_Anomaly            int64\n",
      "Message_Frequency      int64\n",
      "Frequency_Anomaly      int64\n",
      "dtype: object\n"
     ]
    }
   ],
   "source": [
    "from sklearn.model_selection import train_test_split\n",
    "from sklearn.ensemble import RandomForestClassifier\n",
    "from sklearn.metrics import classification_report\n",
    "import pandas as pd\n",
    "import numpy as np\n",
    "import pickle\n",
    "\n",
    "def hex_to_log(x):\n",
    "    try:\n",
    "        if isinstance(x, str):  \n",
    "            return np.log1p(float(int(x, 16)))  \n",
    "        else:\n",
    "            return 0  \n",
    "    except ValueError:\n",
    "        return 0  \n",
    "\n",
    "\n",
    "file_path = './datasets/1029_labeled_re.csv'\n",
    "data = pd.read_csv(file_path)\n",
    "\n",
    "# 데이터프레임(data)의 각 열(column)에 대해 데이터 타입(자료형)을 반환한다.\n",
    "print(data.dtypes)"
   ]
  },
  {
   "cell_type": "code",
   "execution_count": 2,
   "id": "a96dd562",
   "metadata": {},
   "outputs": [
    {
     "name": "stdout",
     "output_type": "stream",
     "text": [
      "              precision    recall  f1-score   support\n",
      "\n",
      "           0       0.99      0.99      0.99     39906\n",
      "           1       1.00      1.00      1.00      7059\n",
      "           2       0.80      0.77      0.79      2065\n",
      "           3       0.64      0.69      0.66       159\n",
      "\n",
      "    accuracy                           0.98     49189\n",
      "   macro avg       0.86      0.86      0.86     49189\n",
      "weighted avg       0.98      0.98      0.98     49189\n",
      "\n",
      "Model saved to rf_model.pkl\n",
      "Model loaded successfully\n",
      "Loaded model prediction complete\n",
      "              precision    recall  f1-score   support\n",
      "\n",
      "           0       0.99      0.99      0.99     39906\n",
      "           1       1.00      1.00      1.00      7059\n",
      "           2       0.80      0.77      0.79      2065\n",
      "           3       0.64      0.69      0.66       159\n",
      "\n",
      "    accuracy                           0.98     49189\n",
      "   macro avg       0.86      0.86      0.86     49189\n",
      "weighted avg       0.98      0.98      0.98     49189\n",
      "\n"
     ]
    }
   ],
   "source": [
    "# RandomForest로 훈련시킨 모델\n",
    "\n",
    "data['ID'] = data['ID'].apply(hex_to_log)\n",
    "data['Data'] = data['Data'].apply(hex_to_log)\n",
    "\n",
    "features = ['Time', 'Length', 'ID', 'Data', 'Same Data', 'Entropy','IAT_Anomaly','Frequency_Anomaly']  \n",
    "X = data[features]\n",
    "y = data['label']\n",
    "\n",
    "X_train, X_test, y_train, y_test = train_test_split(X, y, test_size=0.3, random_state=42)\n",
    "\n",
    "model = RandomForestClassifier(random_state=42)\n",
    "model.fit(X_train, y_train)\n",
    "\n",
    "y_pred = model.predict(X_test)\n",
    "\n",
    "print(classification_report(y_test, y_pred))\n",
    "\n",
    "model_filename = 'rf_model.pkl'\n",
    "\n",
    "with open(model_filename, 'wb') as file:\n",
    "    pickle.dump(model, file)\n",
    "print(f\"Model saved to {model_filename}\")\n",
    "\n",
    "with open(model_filename, 'rb') as file:\n",
    "    loaded_model = pickle.load(file)\n",
    "print(\"Model loaded successfully\")\n",
    "\n",
    "loaded_y_pred = loaded_model.predict(X_test)\n",
    "print(\"Loaded model prediction complete\")\n",
    "\n",
    "print(classification_report(y_test, loaded_y_pred))\n"
   ]
  },
  {
   "cell_type": "code",
   "execution_count": null,
   "id": "b3911019",
   "metadata": {},
   "outputs": [],
   "source": []
  }
 ],
 "metadata": {
  "kernelspec": {
   "display_name": "Python 3 (ipykernel)",
   "language": "python",
   "name": "python3"
  },
  "language_info": {
   "codemirror_mode": {
    "name": "ipython",
    "version": 3
   },
   "file_extension": ".py",
   "mimetype": "text/x-python",
   "name": "python",
   "nbconvert_exporter": "python",
   "pygments_lexer": "ipython3",
   "version": "3.11.4"
  }
 },
 "nbformat": 4,
 "nbformat_minor": 5
}
